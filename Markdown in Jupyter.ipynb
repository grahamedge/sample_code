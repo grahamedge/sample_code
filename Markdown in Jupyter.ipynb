{
 "cells": [
  {
   "cell_type": "markdown",
   "metadata": {},
   "source": [
    "<img width=200 src='http://www.grahamedge.com/static/Graham_Edge_Square.jpg'>\n",
    "\n",
    "<div style=\"text-align: center;\" markdown=\"1\"> \n",
    "<h2>Graham Edge</h2> \n",
    "</div>"
   ]
  },
  {
   "cell_type": "markdown",
   "metadata": {},
   "source": [
    "## Table of Contents\n",
    "\n",
    "Lorem ipsum dolor sit amet, consectetur adipiscing elit. Duis et tristique risus. Nam ut mi mauris. Cras sem libero, tincidunt ut turpis in, posuere facilisis ipsum.\n",
    "\n",
    "  1. [The First Section](#chapter-1)\n",
    "      1. [Subsection A](#chapter-1a)\n",
    "      2. [Subsection B](#chapter-1b)\n",
    "  2. [The Second Section](#chapter-2)"
   ]
  },
  {
   "cell_type": "markdown",
   "metadata": {},
   "source": [
    "___\n",
    "There is a line here but it is hardly visible on my computer"
   ]
  },
  {
   "cell_type": "markdown",
   "metadata": {},
   "source": [
    "## 1. The First Thing <a id=\"chapter-1\"></a>\n",
    "Sed vitae sapien pharetra, auctor ex eu, pulvinar neque. Curabitur venenatis auctor odio ultricies aliquet.\n",
    "\n",
    "### A Numbered List\n",
    "1. Steal Underpants\n",
    "2. ???\n",
    "3. Profit"
   ]
  },
  {
   "cell_type": "markdown",
   "metadata": {},
   "source": [
    "### Get More Specific<a id=\"chapter-1a\"></a>\n",
    "Curabitur venenatis auctor odio ultricies aliquet. Nullam lacinia tincidunt venenatis. \n",
    "- Cras blandit dignissim elementum\n",
    "- Nunc ut dolor in sem laoreet aliquet \n",
    "- Sed eu nulla ante"
   ]
  },
  {
   "cell_type": "code",
   "execution_count": 1,
   "metadata": {
    "collapsed": true
   },
   "outputs": [],
   "source": [
    "#dataframe = pd.read_csv('datafile.csv')\n",
    "\n",
    "#X = dataframe[features]\n",
    "#Y = dataframe[target]"
   ]
  },
  {
   "cell_type": "markdown",
   "metadata": {},
   "source": [
    "#### A Table\n",
    "\n",
    "| Variable | Description |\n",
    "| -- |:-- |\n",
    "| `X[0,:]` |A description |\n",
    "| `X[1,:]`| This one is different |\n",
    "| `X[2,:]`| *This one deserves italics* |\n",
    "\n",
    "Here I am **summarizing** some thoughts about the variable table above."
   ]
  },
  {
   "cell_type": "markdown",
   "metadata": {},
   "source": [
    "### Subtopic 2<a id=\"chapter-1b\"></a>\n",
    "Quisque auctor tincidunt ante, eget interdum nibh faucibus ut. Aenean elementum, felis quis posuere vestibulum, magna risus laoreet augue, a accumsan purus ipsum scelerisque felis.\n",
    "\n",
    "Notice that nothing happens to X when we run `pca_machine.fit(X)` below - this only calculates the optimal feature combinations. We will need to use a command like `X_pca = pca_machine.transform(X)` later to produce the new features."
   ]
  },
  {
   "cell_type": "code",
   "execution_count": 1,
   "metadata": {
    "collapsed": true
   },
   "outputs": [],
   "source": [
    "#from sklearn.decomposition import pca\n",
    "\n",
    "#pca_machine = pca(n_features = 5)\n",
    "#pca_machine.fit(X)"
   ]
  },
  {
   "cell_type": "markdown",
   "metadata": {},
   "source": [
    "#### A Warning\n",
    "<div class=\"alert alert-block alert-danger\">\n",
    "Don't forget to sleep the night before before a big demo</div>"
   ]
  },
  {
   "cell_type": "markdown",
   "metadata": {},
   "source": [
    "## 2. Conclusion <a id=\"chapter-2\"></a>\n",
    "Fusce at est elit. Integer id quam orci. Aliquam at iaculis nisi, non dictum erat. Aliquam nunc augue, mattis vitae tincidunt ornare, tempor eu augue. Curabitur nibh velit, laoreet vel tristique vel, elementum vel arcu. \n",
    "\n",
    "### The Take Home Message\n",
    "<div class=\"alert alert-block alert-success\">\n",
    "Praesent tellus quam, condimentum ut neque et, egestas vulputate sapien. \n",
    "</div>\n"
   ]
  }
 ],
 "metadata": {
  "kernelspec": {
   "display_name": "Python (Insight)",
   "language": "python",
   "name": "insight"
  },
  "language_info": {
   "codemirror_mode": {
    "name": "ipython",
    "version": 2
   },
   "file_extension": ".py",
   "mimetype": "text/x-python",
   "name": "python",
   "nbconvert_exporter": "python",
   "pygments_lexer": "ipython2",
   "version": "2.7.12"
  }
 },
 "nbformat": 4,
 "nbformat_minor": 2
}
